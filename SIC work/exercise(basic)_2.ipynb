{
  "cells": [
    {
      "cell_type": "markdown",
      "metadata": {
        "id": "view-in-github",
        "colab_type": "text"
      },
      "source": [
        "<a href=\"https://colab.research.google.com/github/dhruthijain-24/Samsung-Innovation-Campus/blob/main/exercise(basic)_2.ipynb\" target=\"_parent\"><img src=\"https://colab.research.google.com/assets/colab-badge.svg\" alt=\"Open In Colab\"/></a>"
      ]
    },
    {
      "cell_type": "markdown",
      "metadata": {
        "id": "eiodxEfjkTJk"
      },
      "source": [
        "## Coding Exercise #0102"
      ]
    },
    {
      "cell_type": "markdown",
      "metadata": {
        "id": "q9esZHOpkTJm"
      },
      "source": [
        "### 1. Number:"
      ]
    },
    {
      "cell_type": "markdown",
      "metadata": {
        "id": "dAwdtcS1kTJn"
      },
      "source": [
        "#### 1.1. Operations with numbers:"
      ]
    },
    {
      "cell_type": "code",
      "execution_count": null,
      "metadata": {
        "id": "RgVWt4IKkTJo"
      },
      "outputs": [],
      "source": [
        "1+1"
      ]
    },
    {
      "cell_type": "code",
      "execution_count": null,
      "metadata": {
        "id": "WfE-c5NBkTJp"
      },
      "outputs": [],
      "source": [
        "2**3"
      ]
    },
    {
      "cell_type": "code",
      "execution_count": null,
      "metadata": {
        "id": "waXttme5kTJp"
      },
      "outputs": [],
      "source": [
        "8%5"
      ]
    },
    {
      "cell_type": "code",
      "execution_count": null,
      "metadata": {
        "id": "KHK8fXVvkTJq"
      },
      "outputs": [],
      "source": [
        "8.0//5.0"
      ]
    },
    {
      "cell_type": "markdown",
      "metadata": {
        "id": "XVhVTkFrkTJr"
      },
      "source": [
        "### 2. String:"
      ]
    },
    {
      "cell_type": "markdown",
      "metadata": {
        "id": "KL8P4Zv8kTJr"
      },
      "source": [
        "#### 2.1. Basics:"
      ]
    },
    {
      "cell_type": "code",
      "execution_count": null,
      "metadata": {
        "id": "B2jK5_8XkTJr"
      },
      "outputs": [],
      "source": [
        "# A quote within another quote.\n",
        "print(\"He said, 'Python is very easy'\")\n",
        "print('He said, \"Python is very easy\"')"
      ]
    },
    {
      "cell_type": "code",
      "execution_count": null,
      "metadata": {
        "id": "1C64HtkEkTJs"
      },
      "outputs": [],
      "source": [
        "# Multi-line string.\n",
        "my_string = \"\"\"Hello !!!\n",
        "my\n",
        "name\n",
        "is\n",
        "Python.\"\"\"\n",
        "print(my_string)"
      ]
    },
    {
      "cell_type": "markdown",
      "metadata": {
        "id": "N1-GloMNkTJs"
      },
      "source": [
        "#### 2.2. Operations with strings:"
      ]
    },
    {
      "cell_type": "code",
      "execution_count": null,
      "metadata": {
        "id": "75Va_tjqkTJs"
      },
      "outputs": [],
      "source": [
        "str1 = 'First string. '\n",
        "str2 = 'Second string.'\n",
        "print(str1 + str2)"
      ]
    },
    {
      "cell_type": "code",
      "execution_count": null,
      "metadata": {
        "id": "a_rq0Du2kTJt"
      },
      "outputs": [],
      "source": [
        "str = 'Python. '\n",
        "print(str*5)"
      ]
    },
    {
      "cell_type": "markdown",
      "metadata": {
        "id": "G0alHCZ7kTJt"
      },
      "source": [
        "#### 2.3. Indexing and slilcing strings:"
      ]
    },
    {
      "cell_type": "code",
      "execution_count": null,
      "metadata": {
        "id": "aQruMzv1kTJt"
      },
      "outputs": [],
      "source": [
        "str = 'Life is too short, You need Python!'\n",
        "print(str[0])\n",
        "print(str[-1])\n",
        "print(str[0:4])\n",
        "print(str[5:])"
      ]
    },
    {
      "cell_type": "markdown",
      "metadata": {
        "id": "Z65odeHikTJt"
      },
      "source": [
        "#### 2.4. Functions and methods for string objects:"
      ]
    },
    {
      "cell_type": "code",
      "execution_count": null,
      "metadata": {
        "id": "kqytPi5JkTJt"
      },
      "outputs": [],
      "source": [
        "x = 'Python'\n",
        "print(len(x))"
      ]
    },
    {
      "cell_type": "code",
      "execution_count": null,
      "metadata": {
        "id": "9F0a9eNakTJt"
      },
      "outputs": [],
      "source": [
        "x.count('h')"
      ]
    },
    {
      "cell_type": "code",
      "execution_count": null,
      "metadata": {
        "id": "16-X1tMSkTJt"
      },
      "outputs": [],
      "source": [
        "x.upper()"
      ]
    },
    {
      "cell_type": "code",
      "execution_count": null,
      "metadata": {
        "id": "l9B9JapskTJu"
      },
      "outputs": [],
      "source": [
        "x.lower()"
      ]
    },
    {
      "cell_type": "code",
      "execution_count": null,
      "metadata": {
        "id": "047T6-ISkTJu"
      },
      "outputs": [],
      "source": [
        "x.find('o')"
      ]
    },
    {
      "cell_type": "code",
      "execution_count": null,
      "metadata": {
        "id": "CfFeh_1AkTJu"
      },
      "outputs": [],
      "source": [
        "x.find('w')"
      ]
    },
    {
      "cell_type": "code",
      "execution_count": null,
      "metadata": {
        "id": "zeypMc1CkTJu"
      },
      "outputs": [],
      "source": [
        "x.index('o')"
      ]
    },
    {
      "cell_type": "code",
      "execution_count": null,
      "metadata": {
        "id": "tziN0pHmkTJu"
      },
      "outputs": [],
      "source": [
        "# 'w' is not found in x. This will result in an error.\n",
        "x.index('w')"
      ]
    },
    {
      "cell_type": "code",
      "execution_count": null,
      "metadata": {
        "id": "K-U-58UkkTJu"
      },
      "outputs": [],
      "source": [
        "x = 'Life is too short, You need Python!'"
      ]
    },
    {
      "cell_type": "code",
      "execution_count": null,
      "metadata": {
        "id": "MAAh1C1PkTJu"
      },
      "outputs": [],
      "source": [
        "x.split(' ')"
      ]
    },
    {
      "cell_type": "code",
      "execution_count": null,
      "metadata": {
        "id": "KMK1ALh8kTJu"
      },
      "outputs": [],
      "source": [
        "y = x.split(' ')\n",
        "a = ' '\n",
        "print(a.join(y))"
      ]
    },
    {
      "cell_type": "markdown",
      "metadata": {
        "id": "AG6A299UkTJu"
      },
      "source": [
        "### 3. Boolean:"
      ]
    },
    {
      "cell_type": "markdown",
      "metadata": {
        "id": "C2_7RwqWkTJu"
      },
      "source": [
        "#### 3.1. Operations with Booleans:"
      ]
    },
    {
      "cell_type": "markdown",
      "metadata": {
        "id": "xuMGT8lRkTJu"
      },
      "source": [
        "AND operator:"
      ]
    },
    {
      "cell_type": "code",
      "execution_count": null,
      "metadata": {
        "id": "8cOGStVzkTJu"
      },
      "outputs": [],
      "source": [
        "False and False"
      ]
    },
    {
      "cell_type": "code",
      "execution_count": null,
      "metadata": {
        "id": "i_gv7aqMkTJv"
      },
      "outputs": [],
      "source": [
        "False and True"
      ]
    },
    {
      "cell_type": "code",
      "execution_count": null,
      "metadata": {
        "id": "JJ91t90okTJv"
      },
      "outputs": [],
      "source": [
        "True and False"
      ]
    },
    {
      "cell_type": "code",
      "execution_count": null,
      "metadata": {
        "id": "YEvvBs4RkTJv"
      },
      "outputs": [],
      "source": [
        "True and True"
      ]
    },
    {
      "cell_type": "code",
      "execution_count": null,
      "metadata": {
        "id": "QRSXt58MkTJv"
      },
      "outputs": [],
      "source": [
        "(3 > 2) and (5 < 4)"
      ]
    },
    {
      "cell_type": "code",
      "execution_count": null,
      "metadata": {
        "id": "5BB3AkNxkTJv"
      },
      "outputs": [],
      "source": [
        "(3 > 2) and (5 > 4)"
      ]
    },
    {
      "cell_type": "markdown",
      "metadata": {
        "id": "c-yUFFMYkTJv"
      },
      "source": [
        "OR operator:"
      ]
    },
    {
      "cell_type": "code",
      "execution_count": null,
      "metadata": {
        "id": "GL0iSy_ckTJv"
      },
      "outputs": [],
      "source": [
        "False or False"
      ]
    },
    {
      "cell_type": "code",
      "execution_count": null,
      "metadata": {
        "id": "3dBQWJh1kTJz"
      },
      "outputs": [],
      "source": [
        "True or False"
      ]
    },
    {
      "cell_type": "code",
      "execution_count": null,
      "metadata": {
        "id": "F2mcjwzCkTJz"
      },
      "outputs": [],
      "source": [
        "False or True"
      ]
    },
    {
      "cell_type": "code",
      "execution_count": null,
      "metadata": {
        "id": "t8VIlz9WkTJz"
      },
      "outputs": [],
      "source": [
        "False or True"
      ]
    },
    {
      "cell_type": "code",
      "execution_count": null,
      "metadata": {
        "id": "frLsRHnHkTJz"
      },
      "outputs": [],
      "source": [
        "True or True"
      ]
    },
    {
      "cell_type": "markdown",
      "metadata": {
        "id": "h8rs3c-HkTJ0"
      },
      "source": [
        "NOT operator:"
      ]
    },
    {
      "cell_type": "code",
      "execution_count": null,
      "metadata": {
        "id": "cnQopb5YkTJ0"
      },
      "outputs": [],
      "source": [
        "not True"
      ]
    },
    {
      "cell_type": "code",
      "execution_count": null,
      "metadata": {
        "id": "ZYIcigN7kTJ0"
      },
      "outputs": [],
      "source": [
        "not False"
      ]
    },
    {
      "cell_type": "code",
      "execution_count": null,
      "metadata": {
        "id": "ZwR6KRGMkTJ0"
      },
      "outputs": [],
      "source": [
        "not (4 > 2)"
      ]
    },
    {
      "cell_type": "code",
      "execution_count": null,
      "metadata": {
        "id": "aAmezP8ckTJ0"
      },
      "outputs": [],
      "source": [
        "not (4 < 2)"
      ]
    },
    {
      "cell_type": "markdown",
      "metadata": {
        "id": "3uJ-u0FtkTJ0"
      },
      "source": [
        "#### 3.2. Implicit Boolean:"
      ]
    },
    {
      "cell_type": "code",
      "execution_count": null,
      "metadata": {
        "id": "A79psp4WkTJ0"
      },
      "outputs": [],
      "source": [
        "x = []\n",
        "y = [1,2,3]"
      ]
    },
    {
      "cell_type": "code",
      "execution_count": null,
      "metadata": {
        "id": "hgux-2JjkTJ0"
      },
      "outputs": [],
      "source": [
        "if x:\n",
        "    print('Not empty.')\n",
        "else:\n",
        "    print('Empty!')"
      ]
    },
    {
      "cell_type": "code",
      "execution_count": null,
      "metadata": {
        "id": "oGFknQnfkTJ0"
      },
      "outputs": [],
      "source": [
        "if y:\n",
        "    print('Not empty.')\n",
        "else:\n",
        "    print('Empty!')"
      ]
    },
    {
      "cell_type": "code",
      "execution_count": null,
      "metadata": {
        "id": "wGeoC6JFkTJ0"
      },
      "outputs": [],
      "source": []
    }
  ],
  "metadata": {
    "kernelspec": {
      "display_name": "Python 3",
      "language": "python",
      "name": "python3"
    },
    "language_info": {
      "codemirror_mode": {
        "name": "ipython",
        "version": 3
      },
      "file_extension": ".py",
      "mimetype": "text/x-python",
      "name": "python",
      "nbconvert_exporter": "python",
      "pygments_lexer": "ipython3",
      "version": "3.7.3"
    },
    "colab": {
      "provenance": [],
      "include_colab_link": true
    }
  },
  "nbformat": 4,
  "nbformat_minor": 0
}
