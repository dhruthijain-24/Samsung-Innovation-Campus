{
  "cells": [
    {
      "cell_type": "markdown",
      "metadata": {
        "id": "view-in-github",
        "colab_type": "text"
      },
      "source": [
        "<a href=\"https://colab.research.google.com/github/dhruthijain-24/Samsung-Innovation-Campus/blob/main/K_Means_(simulated_data).ipynb\" target=\"_parent\"><img src=\"https://colab.research.google.com/assets/colab-badge.svg\" alt=\"Open In Colab\"/></a>"
      ]
    },
    {
      "cell_type": "markdown",
      "metadata": {
        "id": "db1CDoTDiPwi"
      },
      "source": [
        "## Coding Exercise #0401"
      ]
    },
    {
      "cell_type": "markdown",
      "metadata": {
        "id": "iIRd6yG9iPwl"
      },
      "source": [
        "### 1. K-Means clustering with simulated data:"
      ]
    },
    {
      "cell_type": "code",
      "execution_count": null,
      "metadata": {
        "id": "n4aiW9jLiPwm"
      },
      "outputs": [],
      "source": [
        "import numpy as np\n",
        "import pandas as pd\n",
        "import matplotlib.pyplot as plt\n",
        "import os\n",
        "from sklearn.cluster import KMeans\n",
        "from sklearn.datasets import make_blobs\n",
        "%matplotlib inline"
      ]
    },
    {
      "cell_type": "markdown",
      "metadata": {
        "id": "u7sHZOdXiPwn"
      },
      "source": [
        "#### 1.1. Generate simulated data and visualize:"
      ]
    },
    {
      "cell_type": "code",
      "execution_count": null,
      "metadata": {
        "id": "6_LDcleFiPwo"
      },
      "outputs": [],
      "source": [
        "# Dataset #1.\n",
        "X1, label1 = make_blobs(n_samples=100, n_features=2, centers=2, cluster_std = 5, random_state=123)\n",
        "plt.scatter(X1[:,0],X1[:,1], c= label1, alpha=0.7 )\n",
        "plt.title('Dataset #1 : Original')\n",
        "plt.show()"
      ]
    },
    {
      "cell_type": "code",
      "execution_count": null,
      "metadata": {
        "id": "7LxNLM6qiPwo"
      },
      "outputs": [],
      "source": [
        "# Dataset #2\n",
        "X2, label2 = make_blobs(n_samples=100, n_features=2, centers=3, cluster_std = 1, random_state=321)\n",
        "plt.scatter(X2[:,0],X2[:,1], c= label2, alpha=0.7 )\n",
        "plt.title('Dataset #2 : Original')\n",
        "plt.show()"
      ]
    },
    {
      "cell_type": "markdown",
      "metadata": {
        "id": "3r4yhTFyiPwp"
      },
      "source": [
        "#### 1.2. Apply k-means clustering and visualize:"
      ]
    },
    {
      "cell_type": "code",
      "execution_count": null,
      "metadata": {
        "id": "WKyJHPymiPwp"
      },
      "outputs": [],
      "source": [
        "# Dataset #1 and two clusters.\n",
        "kmeans = KMeans(n_clusters=2,random_state=123)                 # kmeans object for 2 clusters. radom_state=123 means deterministic initialization.\n",
        "kmeans.fit(X1)                                                 # Unsupervised learning => Only X1.\n",
        "myColors = {0:'red',1:'green', 2:'blue'}                       # Define a color palette: 0~2.\n",
        "plt.scatter(X1[:,0],X1[:,1], c= pd.Series(kmeans.labels_).apply(lambda x: myColors[x]), alpha=0.7 )\n",
        "plt.title('Dataset #1 : K-Means')\n",
        "plt.show()"
      ]
    },
    {
      "cell_type": "code",
      "execution_count": null,
      "metadata": {
        "id": "rgafzGT0iPwq"
      },
      "outputs": [],
      "source": [
        "# Dataset #1 and three clusters.\n",
        "kmeans = KMeans(n_clusters=3,random_state=123)                 # kmeans object for 3 clusters. radom_state=123 means deterministic initialization.\n",
        "kmeans.fit(X1)                                                 # Unsupervised learning => Only X1.\n",
        "plt.scatter(X1[:,0],X1[:,1], c= pd.Series(kmeans.labels_).apply(lambda x: myColors[x]), alpha=0.7 )\n",
        "plt.title('Dataset #1 : K-Means')\n",
        "plt.show()"
      ]
    },
    {
      "cell_type": "code",
      "execution_count": null,
      "metadata": {
        "id": "vv2WVVtIiPwq"
      },
      "outputs": [],
      "source": [
        "# Dataset #2 and two clusters.\n",
        "kmeans = KMeans(n_clusters=2,random_state=123)                 # kmeans object for 2 clusters. radom_state=123 means deterministic initialization.\n",
        "kmeans.fit(X2)                                                 # Unsupervised learning => Only X2.\n",
        "plt.scatter(X2[:,0],X2[:,1], c= pd.Series(kmeans.labels_).apply(lambda x: myColors[x]), alpha=0.7 )\n",
        "plt.title('Dataset #2 : K-Means')\n",
        "plt.show()"
      ]
    },
    {
      "cell_type": "code",
      "execution_count": null,
      "metadata": {
        "id": "YElkE5HTiPwr"
      },
      "outputs": [],
      "source": [
        "# Dataset #2 and three clusters.\n",
        "kmeans = KMeans(n_clusters=3, random_state=123)                # kmeans object for 3 clusters. radom_state=123 means deterministic initialization.\n",
        "kmeans.fit(X2)                                                 # Unsupervised learning => Only X2.\n",
        "plt.scatter(X2[:,0],X2[:,1], c= pd.Series(kmeans.labels_).apply(lambda x: myColors[x]), alpha=0.7 )\n",
        "plt.title('Dataset #2 : K-Means')\n",
        "plt.show()"
      ]
    },
    {
      "cell_type": "markdown",
      "metadata": {
        "id": "4mVbN8wfiPwr"
      },
      "source": [
        "NOTE: k means clusters have linear boundaries. The clustering result may reveal the existing structure, but this is not always guaranteed."
      ]
    }
  ],
  "metadata": {
    "kernelspec": {
      "display_name": "Python 3",
      "language": "python",
      "name": "python3"
    },
    "language_info": {
      "codemirror_mode": {
        "name": "ipython",
        "version": 3
      },
      "file_extension": ".py",
      "mimetype": "text/x-python",
      "name": "python",
      "nbconvert_exporter": "python",
      "pygments_lexer": "ipython3",
      "version": "3.7.3"
    },
    "colab": {
      "provenance": [],
      "include_colab_link": true
    }
  },
  "nbformat": 4,
  "nbformat_minor": 0
}
