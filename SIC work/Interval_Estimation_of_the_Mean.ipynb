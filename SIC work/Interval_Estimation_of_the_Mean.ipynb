{
  "cells": [
    {
      "cell_type": "markdown",
      "metadata": {
        "id": "view-in-github",
        "colab_type": "text"
      },
      "source": [
        "<a href=\"https://colab.research.google.com/github/dhruthijain-24/Samsung-Innovation-Campus/blob/main/Interval_Estimation_of_the_Mean.ipynb\" target=\"_parent\"><img src=\"https://colab.research.google.com/assets/colab-badge.svg\" alt=\"Open In Colab\"/></a>"
      ]
    },
    {
      "cell_type": "markdown",
      "metadata": {
        "id": "3EVksZG2aCaf"
      },
      "source": [
        "## Coding Exercise #0305"
      ]
    },
    {
      "cell_type": "markdown",
      "metadata": {
        "id": "pFCHBtHIaCam"
      },
      "source": [
        "### 1. Interval Estimation of the Mean:"
      ]
    },
    {
      "cell_type": "code",
      "execution_count": null,
      "metadata": {
        "id": "QtkwnmzLaCan"
      },
      "outputs": [],
      "source": [
        "import numpy as np\n",
        "import scipy.stats as st"
      ]
    },
    {
      "cell_type": "code",
      "execution_count": null,
      "metadata": {
        "id": "MZeKtvkLaCao"
      },
      "outputs": [],
      "source": [
        "# x contains a sample.\n",
        "# n = sample size.\n",
        "x = np.array([25,24,24,27,29,31,28,24,25,26,25,18,30,28,23,26,27,23,16,20,22,22,25,24, 24,25,25,27,26,30,25,25,26,26,25,24])\n",
        "n = len(x)"
      ]
    },
    {
      "cell_type": "code",
      "execution_count": null,
      "metadata": {
        "id": "tmuC6zHDaCap"
      },
      "outputs": [],
      "source": [
        "# SEM = Standard Error of the Mean.\n",
        "# In order to do unbiased estimation of the standard deviation, we set ddof = 1.\n",
        "x_mean = x.mean()\n",
        "SEM = x.std(ddof=1)/np.sqrt(n*1.0)"
      ]
    },
    {
      "cell_type": "markdown",
      "metadata": {
        "id": "-P5smTRCaCaq"
      },
      "source": [
        "#### 1.1 90% Confidence Interval:"
      ]
    },
    {
      "cell_type": "code",
      "execution_count": null,
      "metadata": {
        "id": "Sh13-o5NaCaq"
      },
      "outputs": [],
      "source": [
        "# Using the approximated quantiles of the Standard Normal.\n",
        "(x_mean - 1.645*SEM, x_mean + 1.645*SEM)"
      ]
    },
    {
      "cell_type": "code",
      "execution_count": null,
      "metadata": {
        "id": "YGIMBdOOaCar"
      },
      "outputs": [],
      "source": [
        "# Using the exact quantiles of the Standard Normal.\n",
        "(x_mean - st.norm.ppf(0.95,loc=0,scale=1)*SEM, x_mean + st.norm.ppf(0.95,loc=0,scale=1)*SEM)"
      ]
    },
    {
      "cell_type": "code",
      "execution_count": null,
      "metadata": {
        "id": "mc865FVNaCas"
      },
      "outputs": [],
      "source": [
        "# Using the interval() function from the SciPy library (Standard Normal).\n",
        "st.norm.interval(0.9, loc = x_mean, scale = SEM )"
      ]
    },
    {
      "cell_type": "code",
      "execution_count": null,
      "metadata": {
        "id": "_EYQDwLlaCat"
      },
      "outputs": [],
      "source": [
        "# Using the exact quantiles of the Student-t.\n",
        "(x_mean - st.t.ppf(0.95,df=n-1)*SEM, x_mean + st.t.ppf(0.95,df=n-1)*SEM)"
      ]
    },
    {
      "cell_type": "code",
      "execution_count": null,
      "metadata": {
        "id": "wOLaEOJiaCat"
      },
      "outputs": [],
      "source": [
        "# Using the interval() function from the SciPy library (Student-t).\n",
        "st.t.interval(0.9, df = n-1, loc = x_mean, scale = SEM )"
      ]
    },
    {
      "cell_type": "markdown",
      "metadata": {
        "id": "v3MPB1TMaCau"
      },
      "source": [
        "#### 1.2. 95% Confidence Interval:"
      ]
    },
    {
      "cell_type": "code",
      "execution_count": null,
      "metadata": {
        "id": "qFj2RjJHaCau"
      },
      "outputs": [],
      "source": [
        "# Using the approximated quantiles of the Standard Normal.\n",
        "(x_mean - 1.96*SEM, x_mean + 1.96*SEM)"
      ]
    },
    {
      "cell_type": "code",
      "execution_count": null,
      "metadata": {
        "id": "mwdBW500aCau"
      },
      "outputs": [],
      "source": [
        "# Using the exact quantiles of the Standard Normal.\n",
        "(x_mean - st.norm.ppf(0.975,loc=0,scale=1)*SEM, x_mean + st.norm.ppf(0.975,loc=0,scale=1)*SEM)"
      ]
    },
    {
      "cell_type": "code",
      "execution_count": null,
      "metadata": {
        "id": "Ieam8I-3aCav"
      },
      "outputs": [],
      "source": [
        "# Using the interval() function from the SciPy library (Standard Normal).\n",
        "st.norm.interval(0.95, loc = x_mean, scale = SEM )"
      ]
    },
    {
      "cell_type": "code",
      "execution_count": null,
      "metadata": {
        "id": "aH9EiUXKaCav"
      },
      "outputs": [],
      "source": [
        "# Using the exact quantiles of the Student-t.\n",
        "(x_mean - st.t.ppf(0.975,df=n-1)*SEM, x_mean + st.t.ppf(0.975,df=n-1)*SEM)"
      ]
    },
    {
      "cell_type": "code",
      "execution_count": null,
      "metadata": {
        "id": "lccjbkSQaCav"
      },
      "outputs": [],
      "source": [
        "# Using the interval() function from the SciPy library (Student-t).\n",
        "st.t.interval(0.95, df = n-1, loc = x_mean, scale = SEM )"
      ]
    },
    {
      "cell_type": "markdown",
      "metadata": {
        "id": "24SCnuBbaCaw"
      },
      "source": [
        "#### 1.3. 99% Confidence Interval:"
      ]
    },
    {
      "cell_type": "code",
      "execution_count": null,
      "metadata": {
        "id": "u4bk_GwhaCaw"
      },
      "outputs": [],
      "source": [
        "# Using the approximated quantiles of the Standard Normal.\n",
        "(x_mean - 2.576*SEM, x_mean + 2.576*SEM)"
      ]
    },
    {
      "cell_type": "code",
      "execution_count": null,
      "metadata": {
        "id": "N--lY9gXaCaw"
      },
      "outputs": [],
      "source": [
        "# Using the exact quantiles of the Standard Normal.\n",
        "(x_mean - st.norm.ppf(0.995,loc=0,scale=1)*SEM, x_mean + st.norm.ppf(0.995,loc=0,scale=1)*SEM)"
      ]
    },
    {
      "cell_type": "code",
      "execution_count": null,
      "metadata": {
        "id": "bS6pQi-VaCaw"
      },
      "outputs": [],
      "source": [
        "# Using the interval() function from the SciPy library (Standard Normal).\n",
        "st.norm.interval(0.99, loc = x_mean, scale = SEM )"
      ]
    },
    {
      "cell_type": "code",
      "execution_count": null,
      "metadata": {
        "id": "z5wxyvcHaCax"
      },
      "outputs": [],
      "source": [
        "# Using the exact quantiles of the Student-t.\n",
        "(x_mean - st.t.ppf(0.995,df=n-1)*SEM, x_mean + st.t.ppf(0.995,df=n-1)*SEM)"
      ]
    },
    {
      "cell_type": "code",
      "execution_count": null,
      "metadata": {
        "id": "4mY6SAO9aCax"
      },
      "outputs": [],
      "source": [
        "# Using the interval() function from the SciPy library (Student-t).\n",
        "st.t.interval(0.99, df = n-1, loc = x_mean, scale = SEM )"
      ]
    },
    {
      "cell_type": "code",
      "execution_count": null,
      "metadata": {
        "id": "rhZlupc_aCax"
      },
      "outputs": [],
      "source": []
    },
    {
      "cell_type": "code",
      "execution_count": null,
      "metadata": {
        "id": "SWPMGqPDaCax"
      },
      "outputs": [],
      "source": []
    }
  ],
  "metadata": {
    "kernelspec": {
      "display_name": "Python 3",
      "language": "python",
      "name": "python3"
    },
    "language_info": {
      "codemirror_mode": {
        "name": "ipython",
        "version": 3
      },
      "file_extension": ".py",
      "mimetype": "text/x-python",
      "name": "python",
      "nbconvert_exporter": "python",
      "pygments_lexer": "ipython3",
      "version": "3.7.3"
    },
    "colab": {
      "provenance": [],
      "include_colab_link": true
    }
  },
  "nbformat": 4,
  "nbformat_minor": 0
}
