{
  "nbformat": 4,
  "nbformat_minor": 0,
  "metadata": {
    "colab": {
      "provenance": [],
      "authorship_tag": "ABX9TyMv1yCzXnDapr0vFdwXIsfZ",
      "include_colab_link": true
    },
    "kernelspec": {
      "name": "python3",
      "display_name": "Python 3"
    },
    "language_info": {
      "name": "python"
    }
  },
  "cells": [
    {
      "cell_type": "markdown",
      "metadata": {
        "id": "view-in-github",
        "colab_type": "text"
      },
      "source": [
        "<a href=\"https://colab.research.google.com/github/dhruthijain-24/Samsung-Innovation-Campus/blob/main/logistic_regression.ipynb\" target=\"_parent\"><img src=\"https://colab.research.google.com/assets/colab-badge.svg\" alt=\"Open In Colab\"/></a>"
      ]
    },
    {
      "cell_type": "code",
      "execution_count": null,
      "metadata": {
        "id": "HqkT-iLecd6L"
      },
      "outputs": [],
      "source": [
        "import pandas as pd\n",
        "import numpy as np\n",
        "import matplotlib.pyplot as plt\n",
        "import seaborn as sns\n",
        "from sklearn.model_selection import train_test_split\n",
        "from sklearn.preprocessing import StandardScaler\n",
        "from sklearn.linear_model import LogisticRegression\n",
        "################################################################\n",
        "from sklearn.datasets import load_breast_cancer\n",
        "\n",
        "from sklearn.model_selection import StratifiedKFold, cross_val_score"
      ]
    },
    {
      "cell_type": "code",
      "source": [
        "X, y = load_breast_cancer(return_X_y=True)"
      ],
      "metadata": {
        "id": "GTfEWtCVciwv"
      },
      "execution_count": null,
      "outputs": []
    },
    {
      "cell_type": "code",
      "source": [
        "model = LogisticRegression(solver='liblinear',\n",
        "                           max_iter=1000) # 'liblinear' is a good choice for smaller datasets"
      ],
      "metadata": {
        "id": "p0xeWcidckd-"
      },
      "execution_count": null,
      "outputs": []
    },
    {
      "cell_type": "code",
      "source": [
        "model.get_params()"
      ],
      "metadata": {
        "colab": {
          "base_uri": "https://localhost:8080/"
        },
        "id": "BWrfEtgHcn1O",
        "outputId": "05d99d6f-1054-4580-de69-1b5ad682762f"
      },
      "execution_count": null,
      "outputs": [
        {
          "output_type": "execute_result",
          "data": {
            "text/plain": [
              "{'C': 1.0,\n",
              " 'class_weight': None,\n",
              " 'dual': False,\n",
              " 'fit_intercept': True,\n",
              " 'intercept_scaling': 1,\n",
              " 'l1_ratio': None,\n",
              " 'max_iter': 1000,\n",
              " 'multi_class': 'deprecated',\n",
              " 'n_jobs': None,\n",
              " 'penalty': 'l2',\n",
              " 'random_state': None,\n",
              " 'solver': 'liblinear',\n",
              " 'tol': 0.0001,\n",
              " 'verbose': 0,\n",
              " 'warm_start': False}"
            ]
          },
          "metadata": {},
          "execution_count": 4
        }
      ]
    },
    {
      "cell_type": "code",
      "source": [
        "skf = StratifiedKFold(n_splits=50,\n",
        "                      shuffle=True,\n",
        "                      random_state=42)"
      ],
      "metadata": {
        "id": "2cFReMpCcqle"
      },
      "execution_count": null,
      "outputs": []
    },
    {
      "cell_type": "code",
      "source": [
        "cv_scores = cross_val_score(model,\n",
        "                            X, y,\n",
        "                            cv=skf,\n",
        "                            scoring='accuracy')"
      ],
      "metadata": {
        "id": "6y2KL7XZcuKH"
      },
      "execution_count": null,
      "outputs": []
    },
    {
      "cell_type": "code",
      "source": [
        "import numpy as np\n",
        "print(\"Cross-validation scores:\", cv_scores)"
      ],
      "metadata": {
        "colab": {
          "base_uri": "https://localhost:8080/"
        },
        "id": "nkb3BA_-cyZ2",
        "outputId": "635c3174-d13a-44b2-f085-7fd156382a25"
      },
      "execution_count": null,
      "outputs": [
        {
          "output_type": "stream",
          "name": "stdout",
          "text": [
            "Cross-validation scores: [0.91666667 0.91666667 1.         1.         0.91666667 0.91666667\n",
            " 1.         1.         0.91666667 0.91666667 1.         0.83333333\n",
            " 1.         0.91666667 1.         0.75       0.83333333 0.91666667\n",
            " 1.         0.90909091 1.         1.         1.         0.90909091\n",
            " 1.         0.90909091 0.81818182 1.         1.         1.\n",
            " 1.         0.90909091 1.         0.90909091 0.90909091 1.\n",
            " 1.         1.         0.90909091 1.         1.         1.\n",
            " 0.90909091 0.90909091 0.90909091 1.         1.         1.\n",
            " 1.         1.        ]\n"
          ]
        }
      ]
    },
    {
      "cell_type": "code",
      "source": [
        "print(\"Mean accuracy:\", np.mean(cv_scores))"
      ],
      "metadata": {
        "colab": {
          "base_uri": "https://localhost:8080/"
        },
        "id": "TCnxyPx2czsH",
        "outputId": "521e2273-3d24-4896-c971-9df760e4c91c"
      },
      "execution_count": null,
      "outputs": [
        {
          "output_type": "stream",
          "name": "stdout",
          "text": [
            "Mean accuracy: 0.9526002506265664\n"
          ]
        }
      ]
    },
    {
      "cell_type": "code",
      "source": [
        "print(\"Standard deviation of accuracy:\", np.std(cv_scores))"
      ],
      "metadata": {
        "colab": {
          "base_uri": "https://localhost:8080/"
        },
        "id": "DXAuUAl4c2TP",
        "outputId": "729442a2-8044-4a80-c32e-a7bdcedfdb53"
      },
      "execution_count": null,
      "outputs": [
        {
          "output_type": "stream",
          "name": "stdout",
          "text": [
            "Standard deviation of accuracy: 0.02221884818466462\n"
          ]
        }
      ]
    },
    {
      "cell_type": "code",
      "source": [],
      "metadata": {
        "id": "PVQ5zdTWc5HP"
      },
      "execution_count": null,
      "outputs": []
    }
  ]
}