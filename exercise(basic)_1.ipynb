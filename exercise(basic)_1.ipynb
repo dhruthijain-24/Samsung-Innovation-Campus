{
  "cells": [
    {
      "cell_type": "markdown",
      "metadata": {
        "id": "view-in-github",
        "colab_type": "text"
      },
      "source": [
        "<a href=\"https://colab.research.google.com/github/dhruthijain-24/Samsung-Innovation-Campus/blob/main/exercise(basic)_1.ipynb\" target=\"_parent\"><img src=\"https://colab.research.google.com/assets/colab-badge.svg\" alt=\"Open In Colab\"/></a>"
      ]
    },
    {
      "cell_type": "markdown",
      "metadata": {
        "id": "2cRvUJvEespG"
      },
      "source": [
        "## Coding Exercise #0101"
      ]
    },
    {
      "cell_type": "markdown",
      "metadata": {
        "id": "X65Oz74DespI"
      },
      "source": [
        "### 1. Markdown examples:"
      ]
    },
    {
      "cell_type": "markdown",
      "metadata": {
        "id": "8EbtGrmuespI"
      },
      "source": [
        "# Title 1\n",
        "## Title 2\n",
        "### Title 3\n",
        "#### Title 4"
      ]
    },
    {
      "cell_type": "markdown",
      "source": [
        "[GSSS](https://geethashishu.in/)"
      ],
      "metadata": {
        "id": "kFKbwXWff7Jm"
      }
    },
    {
      "cell_type": "markdown",
      "metadata": {
        "id": "PrSUahaBespJ"
      },
      "source": [
        "[Go to Google](https://www.google.com)"
      ]
    },
    {
      "cell_type": "markdown",
      "metadata": {
        "id": "k86ejprbespJ"
      },
      "source": [
        "*Italic font*\n",
        "\n",
        "**Bold font**"
      ]
    },
    {
      "cell_type": "markdown",
      "metadata": {
        "id": "RcOZFmKhespK"
      },
      "source": [
        "An expression in LaTex: $Area = \\pi r^2$  <br>\n",
        "Another expression in LaTex: $P(x) = \\int_{-\\infty}^x f(x) dx$"
      ]
    },
    {
      "cell_type": "markdown",
      "metadata": {
        "id": "zmWT2aTrespK"
      },
      "source": [
        "The following is a list of items:\n",
        "- An item.\n",
        "- An item.\n",
        "- An item."
      ]
    },
    {
      "cell_type": "markdown",
      "metadata": {
        "id": "ltX5tZV3espK"
      },
      "source": [
        "> This is a quote.\n",
        "---\n",
        "> Another quote after horizontal line."
      ]
    },
    {
      "cell_type": "markdown",
      "metadata": {
        "id": "hbDXXV8vespL"
      },
      "source": [
        "### 2. Python quick look:"
      ]
    },
    {
      "cell_type": "code",
      "execution_count": null,
      "metadata": {
        "id": "XNaGxCkcespL"
      },
      "outputs": [],
      "source": [
        "# Print out Hello World!\n",
        "print('Hello World!')"
      ]
    },
    {
      "cell_type": "code",
      "execution_count": null,
      "metadata": {
        "id": "vg5JJH19espL"
      },
      "outputs": [],
      "source": [
        "# Simple arithmetics.\n",
        "1+1"
      ]
    },
    {
      "cell_type": "code",
      "execution_count": null,
      "metadata": {
        "id": "_wqn75LRespL"
      },
      "outputs": [],
      "source": [
        "4/3"
      ]
    },
    {
      "cell_type": "code",
      "execution_count": null,
      "metadata": {
        "id": "vxLUybGAespM"
      },
      "outputs": [],
      "source": [
        "# Floor division.\n",
        "4//3"
      ]
    },
    {
      "cell_type": "code",
      "execution_count": null,
      "metadata": {
        "id": "7iig0PY-espM"
      },
      "outputs": [],
      "source": [
        "# Data types.\n",
        "print(type(2**30))\n",
        "print(type(2**100))"
      ]
    },
    {
      "cell_type": "code",
      "execution_count": null,
      "metadata": {
        "id": "czPsB27KespM"
      },
      "outputs": [],
      "source": [
        "# Variable.\n",
        "x = 3\n",
        "print(x * 5)"
      ]
    },
    {
      "cell_type": "code",
      "execution_count": null,
      "metadata": {
        "id": "Oki6WcvIespM"
      },
      "outputs": [],
      "source": [
        "# Iteration.\n",
        "for x in [1,2,3,4,5]:\n",
        "    print(x)"
      ]
    },
    {
      "cell_type": "code",
      "execution_count": null,
      "metadata": {
        "id": "STYEJfeoespM"
      },
      "outputs": [],
      "source": [
        "# Conditional structure.\n",
        "x = 7\n",
        "if x < 10:\n",
        "    print('x is smaller than 10.')\n",
        "else:\n",
        "    print('x is larger than 10.')"
      ]
    }
  ],
  "metadata": {
    "kernelspec": {
      "display_name": "Python 3",
      "language": "python",
      "name": "python3"
    },
    "language_info": {
      "codemirror_mode": {
        "name": "ipython",
        "version": 3
      },
      "file_extension": ".py",
      "mimetype": "text/x-python",
      "name": "python",
      "nbconvert_exporter": "python",
      "pygments_lexer": "ipython3",
      "version": "3.7.3"
    },
    "colab": {
      "provenance": [],
      "include_colab_link": true
    }
  },
  "nbformat": 4,
  "nbformat_minor": 0
}