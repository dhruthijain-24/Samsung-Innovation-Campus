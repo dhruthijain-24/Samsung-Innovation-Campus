{
  "cells": [
    {
      "cell_type": "markdown",
      "metadata": {
        "id": "view-in-github",
        "colab_type": "text"
      },
      "source": [
        "<a href=\"https://colab.research.google.com/github/dhruthijain-24/Samsung-Innovation-Campus/blob/main/exercise(basic)_3.ipynb\" target=\"_parent\"><img src=\"https://colab.research.google.com/assets/colab-badge.svg\" alt=\"Open In Colab\"/></a>"
      ]
    },
    {
      "cell_type": "markdown",
      "metadata": {
        "id": "TwjMHBmpkq1l"
      },
      "source": [
        "## Coding Exercise #0103"
      ]
    },
    {
      "cell_type": "markdown",
      "metadata": {
        "id": "dFlAnifRkq1n"
      },
      "source": [
        "### 1. List:"
      ]
    },
    {
      "cell_type": "markdown",
      "metadata": {
        "id": "HYfkZNuakq1o"
      },
      "source": [
        "#### 1.1. Creating lists:"
      ]
    },
    {
      "cell_type": "code",
      "execution_count": null,
      "metadata": {
        "id": "C0suT5I_kq1p"
      },
      "outputs": [],
      "source": [
        "x = [1, 3, True, False, 'Hello', [3,5,7]]\n",
        "type(x)"
      ]
    },
    {
      "cell_type": "code",
      "execution_count": null,
      "metadata": {
        "id": "mWmjRnqfkq1q"
      },
      "outputs": [],
      "source": [
        "# A range.\n",
        "range(1,5)"
      ]
    },
    {
      "cell_type": "code",
      "execution_count": null,
      "metadata": {
        "id": "JhYPo4Tpkq1q"
      },
      "outputs": [],
      "source": [
        "# A range cast as list.\n",
        "x = list(range(1,5))\n",
        "x"
      ]
    },
    {
      "cell_type": "code",
      "execution_count": null,
      "metadata": {
        "id": "fHrqu7sUkq1q"
      },
      "outputs": [],
      "source": [
        "list(range(1,10,2))"
      ]
    },
    {
      "cell_type": "code",
      "execution_count": null,
      "metadata": {
        "id": "xtRebOeakq1r"
      },
      "outputs": [],
      "source": [
        "list(range(0,21,5))"
      ]
    },
    {
      "cell_type": "markdown",
      "metadata": {
        "id": "o8oHxfFqkq1r"
      },
      "source": [
        "#### 1.2. Indexing and slicing lists:"
      ]
    },
    {
      "cell_type": "code",
      "execution_count": null,
      "metadata": {
        "id": "2IWw46ELkq1s"
      },
      "outputs": [],
      "source": [
        "x = [1, 2, ['Life', 'is']]\n",
        "x[1]"
      ]
    },
    {
      "cell_type": "code",
      "execution_count": null,
      "metadata": {
        "id": "e0gDrdy3kq1s"
      },
      "outputs": [],
      "source": [
        "x[2]"
      ]
    },
    {
      "cell_type": "code",
      "execution_count": null,
      "metadata": {
        "id": "F_Z-1WKkkq1s"
      },
      "outputs": [],
      "source": [
        "x[2][1]"
      ]
    },
    {
      "cell_type": "code",
      "execution_count": null,
      "metadata": {
        "id": "DJm9qFnrkq1s"
      },
      "outputs": [],
      "source": [
        "x = [1, 2, 3, ['a', 'b', 'c'], 4, 5]\n",
        "x[2:5]"
      ]
    },
    {
      "cell_type": "code",
      "execution_count": null,
      "metadata": {
        "id": "rvY31eO4kq1t"
      },
      "outputs": [],
      "source": [
        "x[3][:2]"
      ]
    },
    {
      "cell_type": "markdown",
      "metadata": {
        "id": "JngCVtjBkq1t"
      },
      "source": [
        "#### 1.3. Operations with lists:"
      ]
    },
    {
      "cell_type": "code",
      "execution_count": null,
      "metadata": {
        "id": "xR7OIskXkq1t"
      },
      "outputs": [],
      "source": [
        "a = [1, 2, 3]\n",
        "b = [4, 5, 6]\n",
        "a + b"
      ]
    },
    {
      "cell_type": "code",
      "execution_count": null,
      "metadata": {
        "id": "dQ9CFK6Wkq1t"
      },
      "outputs": [],
      "source": [
        "x = [1, 2, 3]\n",
        "x*3"
      ]
    },
    {
      "cell_type": "markdown",
      "metadata": {
        "id": "jgjsvJC-kq1t"
      },
      "source": [
        "#### 1.4. Changing list content:"
      ]
    },
    {
      "cell_type": "code",
      "execution_count": null,
      "metadata": {
        "id": "XEx4oiQ1kq1t"
      },
      "outputs": [],
      "source": [
        "x = [1, 2, 3]\n",
        "x[1] = -1\n",
        "x"
      ]
    },
    {
      "cell_type": "code",
      "execution_count": null,
      "metadata": {
        "id": "1KWuc0mFkq1t"
      },
      "outputs": [],
      "source": [
        "x[1:3] = [3, 5, 7, 9, 11]\n",
        "x"
      ]
    },
    {
      "cell_type": "markdown",
      "metadata": {
        "id": "fkgCx9dwkq1u"
      },
      "source": [
        "Let's carefully distinguish the following cases:"
      ]
    },
    {
      "cell_type": "code",
      "execution_count": null,
      "metadata": {
        "id": "tAaVVnCakq1u"
      },
      "outputs": [],
      "source": [
        "# Replace part of a list.\n",
        "x = [1, 2, 3]\n",
        "x[1:2] = [-1, -2, -3]\n",
        "x"
      ]
    },
    {
      "cell_type": "code",
      "execution_count": null,
      "metadata": {
        "id": "FJlCHhvokq1u"
      },
      "outputs": [],
      "source": [
        "# List a particular element of the list.\n",
        "x = [1, 2, 3]\n",
        "x[1] = [-1, -2, -3]\n",
        "x"
      ]
    },
    {
      "cell_type": "markdown",
      "metadata": {
        "id": "4ztZ5Cl8kq1u"
      },
      "source": [
        "#### 1.5. Deleting part of a list:"
      ]
    },
    {
      "cell_type": "code",
      "execution_count": null,
      "metadata": {
        "id": "pGifBpNLkq1u"
      },
      "outputs": [],
      "source": [
        "x = [1, 2, 3, 4, 5]\n",
        "x[1:3] = []\n",
        "x"
      ]
    },
    {
      "cell_type": "code",
      "execution_count": null,
      "metadata": {
        "id": "LqXY20oSkq1u"
      },
      "outputs": [],
      "source": [
        "x = [1, 2, 3, 4, 5]\n",
        "del x[2]\n",
        "x"
      ]
    },
    {
      "cell_type": "markdown",
      "metadata": {
        "id": "sqXQdSonkq1u"
      },
      "source": [
        "#### 1.6. Functions and methods for list objects:"
      ]
    },
    {
      "cell_type": "code",
      "execution_count": null,
      "metadata": {
        "id": "Vo-JcZ9fkq1u"
      },
      "outputs": [],
      "source": [
        "x = [2,4,6,8,10]\n",
        "len(x)"
      ]
    },
    {
      "cell_type": "code",
      "execution_count": null,
      "metadata": {
        "id": "_12fDJtTkq1u"
      },
      "outputs": [],
      "source": [
        "x = [1, 2, 3]\n",
        "x.append(4)\n",
        "x.append([5,6])\n",
        "x"
      ]
    },
    {
      "cell_type": "code",
      "execution_count": null,
      "metadata": {
        "id": "XMgMfMk3kq1u"
      },
      "outputs": [],
      "source": [
        "x = [1, 2, 3, 4, 5]\n",
        "x.reverse()\n",
        "x"
      ]
    },
    {
      "cell_type": "code",
      "execution_count": null,
      "metadata": {
        "id": "qij9kGabkq1v"
      },
      "outputs": [],
      "source": [
        "# The sort() method changes the list permanently.\n",
        "x = [3, 1, 5, 2, 4]\n",
        "x.sort()\n",
        "x"
      ]
    },
    {
      "cell_type": "code",
      "execution_count": null,
      "metadata": {
        "id": "Q69lCDs8kq1v"
      },
      "outputs": [],
      "source": [
        "x = [3, 1, 5, 2, 4]\n",
        "x.sort(reverse=True)\n",
        "x"
      ]
    },
    {
      "cell_type": "code",
      "execution_count": null,
      "metadata": {
        "id": "YanBly1ukq1v"
      },
      "outputs": [],
      "source": [
        "# The function sorted() just returns a view without changing the list permanently.\n",
        "x = [3, 1, 5, 2, 4]\n",
        "sorted(x)"
      ]
    },
    {
      "cell_type": "code",
      "execution_count": null,
      "metadata": {
        "id": "KfdApGBokq1v"
      },
      "outputs": [],
      "source": [
        "# We can verify that 'x' is the same as before.\n",
        "x"
      ]
    },
    {
      "cell_type": "markdown",
      "metadata": {
        "id": "XYNtJ9qnkq1v"
      },
      "source": [
        "### 2. Tuple:"
      ]
    },
    {
      "cell_type": "markdown",
      "metadata": {
        "id": "gLYf-J2Bkq1v"
      },
      "source": [
        "#### 2.1. Creating tuples:"
      ]
    },
    {
      "cell_type": "code",
      "execution_count": null,
      "metadata": {
        "id": "bvf7Zto4kq1v"
      },
      "outputs": [],
      "source": [
        "x = (1, 3, True, False, 'Hello', [3,5,7])\n",
        "type(x)"
      ]
    },
    {
      "cell_type": "code",
      "execution_count": null,
      "metadata": {
        "id": "vMJyikmUkq1v"
      },
      "outputs": [],
      "source": [
        "# A range cast as tuple.\n",
        "x = tuple(range(1,5))\n",
        "x"
      ]
    },
    {
      "cell_type": "markdown",
      "metadata": {
        "id": "9XSlgk6lkq1v"
      },
      "source": [
        "#### 2.2. Indexing and slicing tuples:"
      ]
    },
    {
      "cell_type": "code",
      "execution_count": null,
      "metadata": {
        "id": "ObneMHEYkq11"
      },
      "outputs": [],
      "source": [
        "x = (1, 2, ('Life', 'is'))\n",
        "x[2]"
      ]
    },
    {
      "cell_type": "code",
      "execution_count": null,
      "metadata": {
        "id": "LwsTFqOUkq11"
      },
      "outputs": [],
      "source": [
        "x[2][1]"
      ]
    },
    {
      "cell_type": "code",
      "execution_count": null,
      "metadata": {
        "id": "CyW6FxBpkq11"
      },
      "outputs": [],
      "source": [
        "x = (1, 2, 3, ['a', 'b', 'c'], 4, 5)\n",
        "x[3][:2]"
      ]
    },
    {
      "cell_type": "markdown",
      "metadata": {
        "id": "GCU4Wt9Mkq11"
      },
      "source": [
        "#### 2.3. Operations with tuples:"
      ]
    },
    {
      "cell_type": "code",
      "execution_count": null,
      "metadata": {
        "id": "ojY6eb7okq11"
      },
      "outputs": [],
      "source": [
        "a = (1, 2, 3)\n",
        "b = (4, 5, 6)\n",
        "a + b"
      ]
    },
    {
      "cell_type": "code",
      "execution_count": null,
      "metadata": {
        "id": "W0X4MEK4kq11"
      },
      "outputs": [],
      "source": [
        "a * 3"
      ]
    },
    {
      "cell_type": "markdown",
      "metadata": {
        "id": "0iu1DgD_kq11"
      },
      "source": [
        "### 3. Dictionary:"
      ]
    },
    {
      "cell_type": "markdown",
      "metadata": {
        "id": "TizxYiL6kq12"
      },
      "source": [
        "#### 3.1. Creating dictionaries:"
      ]
    },
    {
      "cell_type": "code",
      "execution_count": null,
      "metadata": {
        "id": "CQm38INdkq12"
      },
      "outputs": [],
      "source": [
        "d = {'x':[1,2,3], 'y':[4,5,6]}"
      ]
    },
    {
      "cell_type": "code",
      "execution_count": null,
      "metadata": {
        "id": "Ue9lsCTvkq12"
      },
      "outputs": [],
      "source": [
        "d['x']"
      ]
    },
    {
      "cell_type": "code",
      "execution_count": null,
      "metadata": {
        "id": "FHZ3ALBKkq12"
      },
      "outputs": [],
      "source": [
        "d['y']"
      ]
    },
    {
      "cell_type": "markdown",
      "metadata": {
        "id": "D-WTb39ukq12"
      },
      "source": [
        "#### 3.2. Adding key-value pairs, deletion, update:"
      ]
    },
    {
      "cell_type": "code",
      "execution_count": null,
      "metadata": {
        "id": "Qc6o7rGukq12"
      },
      "outputs": [],
      "source": [
        "d = {}\n",
        "d['name'] = 'John'\n",
        "d['gender'] = 'Male'\n",
        "d['age'] = 23\n",
        "d"
      ]
    },
    {
      "cell_type": "code",
      "execution_count": null,
      "metadata": {
        "id": "ZC1gf73Kkq12"
      },
      "outputs": [],
      "source": [
        "del d['age']\n",
        "d"
      ]
    },
    {
      "cell_type": "code",
      "execution_count": null,
      "metadata": {
        "id": "Ull7LEYbkq12"
      },
      "outputs": [],
      "source": [
        "d['name'] = 'Andrew'\n",
        "d"
      ]
    },
    {
      "cell_type": "markdown",
      "metadata": {
        "id": "7o7MqdDNkq12"
      },
      "source": [
        "#### 3.3. Dictionary methods and operations:"
      ]
    },
    {
      "cell_type": "code",
      "execution_count": null,
      "metadata": {
        "id": "pk2tcHgckq12"
      },
      "outputs": [],
      "source": [
        "d.keys()"
      ]
    },
    {
      "cell_type": "code",
      "execution_count": null,
      "metadata": {
        "id": "xveCCW7Xkq12"
      },
      "outputs": [],
      "source": [
        "d.values()"
      ]
    },
    {
      "cell_type": "code",
      "execution_count": null,
      "metadata": {
        "id": "I8AFMrtDkq12"
      },
      "outputs": [],
      "source": [
        "d.items()"
      ]
    },
    {
      "cell_type": "code",
      "execution_count": null,
      "metadata": {
        "id": "QPrRRButkq12"
      },
      "outputs": [],
      "source": [
        "d.clear()\n",
        "d"
      ]
    },
    {
      "cell_type": "code",
      "execution_count": null,
      "metadata": {
        "id": "wv0cscA9kq12"
      },
      "outputs": [],
      "source": [
        "d = {'name': 'John', 'gender': 'Male', 'age': 23}\n",
        "d.get('wage', 0)"
      ]
    },
    {
      "cell_type": "code",
      "execution_count": null,
      "metadata": {
        "id": "p-LcdKOpkq12"
      },
      "outputs": [],
      "source": [
        "# Check whether 'name' is a key of d.\n",
        "'name' in d"
      ]
    },
    {
      "cell_type": "code",
      "execution_count": null,
      "metadata": {
        "id": "mPCUXdwYkq12"
      },
      "outputs": [],
      "source": [
        "# Check whether 'wage' is a key of d.\n",
        "'wage' in d"
      ]
    },
    {
      "cell_type": "markdown",
      "metadata": {
        "id": "qxZleUrekq12"
      },
      "source": [
        "### 4. Set:"
      ]
    },
    {
      "cell_type": "markdown",
      "metadata": {
        "id": "wsrBhBSfkq12"
      },
      "source": [
        "#### 4.1. Creating a set:"
      ]
    },
    {
      "cell_type": "code",
      "execution_count": null,
      "metadata": {
        "id": "3-uBOlEwkq12"
      },
      "outputs": [],
      "source": [
        "b = set([1,2,3,3,3,3,4,5])\n",
        "b"
      ]
    },
    {
      "cell_type": "markdown",
      "metadata": {
        "id": "JoJlmgvEkq13"
      },
      "source": [
        "#### 4.2. Operations with sets:"
      ]
    },
    {
      "cell_type": "code",
      "execution_count": null,
      "metadata": {
        "id": "ubFzeva-kq13"
      },
      "outputs": [],
      "source": [
        "s1 = set([1, 2, 3, 4, 5])\n",
        "s2 = set([4, 5, 6, 7, 8])\n",
        "s1 & s2"
      ]
    },
    {
      "cell_type": "code",
      "execution_count": null,
      "metadata": {
        "id": "74qFkNDYkq13"
      },
      "outputs": [],
      "source": [
        "s1.intersection(s2)"
      ]
    },
    {
      "cell_type": "code",
      "execution_count": null,
      "metadata": {
        "id": "PnGtv67Gkq13"
      },
      "outputs": [],
      "source": [
        "s1 | s2"
      ]
    },
    {
      "cell_type": "code",
      "execution_count": null,
      "metadata": {
        "id": "SaaMjQZhkq13"
      },
      "outputs": [],
      "source": [
        "s1.union(s2)"
      ]
    },
    {
      "cell_type": "code",
      "execution_count": null,
      "metadata": {
        "id": "4Qkmr_yAkq13"
      },
      "outputs": [],
      "source": [
        "s1 - s2"
      ]
    },
    {
      "cell_type": "code",
      "execution_count": null,
      "metadata": {
        "id": "t_t2ricbkq13"
      },
      "outputs": [],
      "source": [
        "s1.difference(s2)"
      ]
    },
    {
      "cell_type": "code",
      "execution_count": null,
      "metadata": {
        "id": "4tWxk2-qkq13"
      },
      "outputs": [],
      "source": [
        "a = set([1, 2, 3, 4, 5])\n",
        "a.add(6)\n",
        "a"
      ]
    },
    {
      "cell_type": "code",
      "execution_count": null,
      "metadata": {
        "id": "DDXlOPvPkq13"
      },
      "outputs": [],
      "source": [
        "a.update([7, 8, 9])\n",
        "a"
      ]
    },
    {
      "cell_type": "code",
      "execution_count": null,
      "metadata": {
        "id": "Td2lSGwmkq13"
      },
      "outputs": [],
      "source": [
        "a.remove(9)\n",
        "a"
      ]
    }
  ],
  "metadata": {
    "kernelspec": {
      "display_name": "Python 3",
      "language": "python",
      "name": "python3"
    },
    "language_info": {
      "codemirror_mode": {
        "name": "ipython",
        "version": 3
      },
      "file_extension": ".py",
      "mimetype": "text/x-python",
      "name": "python",
      "nbconvert_exporter": "python",
      "pygments_lexer": "ipython3",
      "version": "3.7.3"
    },
    "colab": {
      "provenance": [],
      "include_colab_link": true
    }
  },
  "nbformat": 4,
  "nbformat_minor": 0
}